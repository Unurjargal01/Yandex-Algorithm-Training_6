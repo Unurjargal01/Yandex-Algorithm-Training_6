{
 "cells": [
  {
   "cell_type": "markdown",
   "id": "7b33a880-6233-4833-995a-c8d31eff762c",
   "metadata": {
    "jp-MarkdownHeadingCollapsed": true
   },
   "source": [
    "## Task 1:"
   ]
  },
  {
   "cell_type": "markdown",
   "id": "ac827e66-be4e-44ed-8fcb-b4869c4c2643",
   "metadata": {},
   "source": [
    "### Problem"
   ]
  },
  {
   "cell_type": "markdown",
   "id": "a00ed21c-2623-434a-a1d3-5a6a86c68c0c",
   "metadata": {},
   "source": [
    "#### In a short, Move the square to the given point."
   ]
  },
  {
   "cell_type": "markdown",
   "id": "6e8a12d7-3ffa-4466-8890-88a0aef7a980",
   "metadata": {},
   "source": [
    "![title](Problems/1_A.png)"
   ]
  },
  {
   "cell_type": "markdown",
   "id": "b94777f0-3a5b-43e8-8058-014aca713414",
   "metadata": {},
   "source": [
    "### Solution"
   ]
  },
  {
   "cell_type": "code",
   "execution_count": 5,
   "id": "913df90d-27c1-4e8e-ae26-a8c342e5b1a6",
   "metadata": {},
   "outputs": [
    {
     "name": "stdin",
     "output_type": "stream",
     "text": [
      " -1\n",
      " -2\n",
      " 5\n",
      " 3\n",
      " -4\n",
      " 6\n"
     ]
    },
    {
     "name": "stdout",
     "output_type": "stream",
     "text": [
      "NW\n"
     ]
    }
   ],
   "source": [
    "x1, y1 = int(input()), int(input())\n",
    "x2, y2 = int(input()), int(input())\n",
    "x, y = int(input()), int(input())\n",
    "\n",
    "if x > x2:\n",
    "    EW = \"E\"\n",
    "elif x < x1:\n",
    "    EW = \"W\"\n",
    "else:\n",
    "    EW = \"\"\n",
    "\n",
    "if y > y2:\n",
    "    SN = \"N\"\n",
    "elif y < y1:\n",
    "    SN = \"S\"\n",
    "else:\n",
    "    SN = \"\"\n",
    "\n",
    "print(SN + EW)"
   ]
  },
  {
   "cell_type": "markdown",
   "id": "12252ace-5970-494a-b9d7-c44f763fb504",
   "metadata": {
    "jp-MarkdownHeadingCollapsed": true
   },
   "source": [
    "## Task 2:"
   ]
  },
  {
   "cell_type": "markdown",
   "id": "5d8b3c2f-b110-4c62-91d5-d0289f1d4cb9",
   "metadata": {},
   "source": [
    "### Problem"
   ]
  },
  {
   "cell_type": "markdown",
   "id": "ea9386f1-35cb-49a7-849b-4c46679561a1",
   "metadata": {},
   "source": [
    "#### Finding the smallest required number to choose same colored pair of socks and undershirt"
   ]
  },
  {
   "cell_type": "markdown",
   "id": "5470101c-ab0b-4cbc-99ea-94703b844052",
   "metadata": {},
   "source": [
    "![title](Problems/1_B.png)"
   ]
  },
  {
   "cell_type": "markdown",
   "id": "c5331c67-a0e3-45e9-810a-25c43445393e",
   "metadata": {},
   "source": [
    "### Solution"
   ]
  },
  {
   "cell_type": "code",
   "execution_count": 9,
   "id": "9efe04e8-5797-4325-86e6-18e00c2d3129",
   "metadata": {},
   "outputs": [
    {
     "name": "stdin",
     "output_type": "stream",
     "text": [
      " 6\n",
      " 2\n",
      " 7\n",
      " 3\n"
     ]
    },
    {
     "name": "stdout",
     "output_type": "stream",
     "text": [
      "3 4\n"
     ]
    }
   ],
   "source": [
    "def solve(a, b, c, d):\n",
    "    if (b == 0 and d == 0) or (a == 0 and c == 0):\n",
    "        return 1, 1\n",
    "    if a == 0:\n",
    "        return 1, c+1\n",
    "    elif b == 0:\n",
    "        return 1, d+1\n",
    "    elif c == 0:\n",
    "        return a+1, 1\n",
    "    elif d == 0:\n",
    "        return b+1, 1\n",
    "        \n",
    "    max_sh, min_sh = max(a, b), min(a, b)\n",
    "    max_so, min_so = max(c, d), min(c, d)\n",
    "\n",
    "    if max_sh > max_so:\n",
    "        ans = (1, max_so + 1)\n",
    "    else:\n",
    "        ans = (max_sh + 1, 1)\n",
    "\n",
    "    if a >= b and c >= d:\n",
    "        ans = min(ans, (b + 1, d + 1), key = lambda x: sum(x))\n",
    "    elif a <= b and c <= d:\n",
    "        ans = min(ans, (a + 1, c + 1), key = lambda x: sum(x))\n",
    "    return ans\n",
    "\n",
    "a, b, c, d = int(input()), int(input()), int(input()), int(input())\n",
    "print(*solve(a, b, c, d))"
   ]
  },
  {
   "cell_type": "markdown",
   "id": "b5b66a89-b518-4fea-b91b-0ccb9b6e27ab",
   "metadata": {},
   "source": [
    "### Test cases"
   ]
  },
  {
   "cell_type": "code",
   "execution_count": 10,
   "id": "8c4d9046-925f-4606-9d6e-52b41817a45e",
   "metadata": {},
   "outputs": [
    {
     "name": "stdout",
     "output_type": "stream",
     "text": [
      "1 1\n",
      "1 1\n",
      "1 7\n",
      "1 4\n",
      "6 1\n",
      "4 1\n"
     ]
    }
   ],
   "source": [
    "# Task 2:\n",
    "data = [[1, 0, 1, 0],\n",
    "        [0, 3, 0 ,5],\n",
    "        [4, 0, 2, 6],\n",
    "        [0, 5, 3, 4],\n",
    "        [5, 3, 0, 4],\n",
    "        [5, 3, 4, 0]]\n",
    "for a, b, c, d in data:\n",
    "    print(*solve(a, b, c, d))"
   ]
  },
  {
   "cell_type": "markdown",
   "id": "2a5cb959-80c0-44cb-94f2-53ba7049c32b",
   "metadata": {},
   "source": [
    "## Task 3:"
   ]
  },
  {
   "cell_type": "markdown",
   "id": "fdd51b32-7433-409b-af56-86b385dd0fbe",
   "metadata": {},
   "source": [
    "### Problem:"
   ]
  },
  {
   "cell_type": "markdown",
   "id": "6f250797-5c93-48ae-bdd1-a63a58faf5e4",
   "metadata": {},
   "source": [
    "#### In short, detect the alphabet from the pixels with given constraints"
   ]
  },
  {
   "cell_type": "markdown",
   "id": "1a0b1b8b-f52a-478a-ba38-f49b1968273b",
   "metadata": {},
   "source": [
    "![title](Problems/1_C_1.png)"
   ]
  },
  {
   "cell_type": "markdown",
   "id": "48e9927b-7c1d-4445-8185-90ed1907d136",
   "metadata": {},
   "source": [
    "![title](Problems/1_C_2.png)"
   ]
  },
  {
   "cell_type": "markdown",
   "id": "f714ef9f-253c-4667-99f5-7018ed6d337d",
   "metadata": {},
   "source": [
    "### Solutions:"
   ]
  },
  {
   "cell_type": "markdown",
   "id": "23679018-aee6-46e6-9aff-3cb687aa9428",
   "metadata": {},
   "source": [
    "#### Main idea: the compress the picture by removing identical rows and columns, then check the alphabet"
   ]
  },
  {
   "cell_type": "code",
   "execution_count": 14,
   "id": "cd75f1d0-18a0-4d42-9956-a98353ab82bc",
   "metadata": {},
   "outputs": [
    {
     "name": "stdin",
     "output_type": "stream",
     "text": [
      " 4\n",
      " .##.\n",
      " .##.\n",
      " .##.\n",
      " ....\n"
     ]
    },
    {
     "name": "stdout",
     "output_type": "stream",
     "text": [
      "I\n"
     ]
    }
   ],
   "source": [
    "from functools import reduce\n",
    "\n",
    "def solve(n, data):\n",
    "    data1 = list(map(lambda x: x.lstrip('.'), data))\n",
    "    cur = \"\"\n",
    "    s = []\n",
    "    for i in range(n):\n",
    "        if data1[i] != cur:\n",
    "            cur = data1[i]\n",
    "            s.append(cur)\n",
    "    if len(s) == 0:\n",
    "        return 'X'\n",
    "    if s[-1] == '':\n",
    "        s.pop()\n",
    "    if '' in s or len(s) > 4 or reduce(lambda a, b: a if len(a) == len(b) else \"\", s) == \"\":\n",
    "        return 'X'\n",
    "    if len(s) == 1:\n",
    "        return 'X' if '.' in s[0].rstrip('.') else 'I'\n",
    "    elif len(s) == 2:\n",
    "        if ('.' not in s[0].rstrip('.')) and ('.' not in s[1].rstrip('.')):\n",
    "            return 'L'\n",
    "        else:\n",
    "            return 'X'\n",
    "    elif len(s) == 3 and s[0] == s[-1]:\n",
    "        if '.' not in s[0].rstrip('.'):\n",
    "            if '.' not in s[1].rstrip('.'):\n",
    "                return 'C'\n",
    "            elif '#' not in s[1].rstrip('.').strip('#'):\n",
    "                return 'O'\n",
    "        else:\n",
    "            if ('#' not in s[0].rstrip('.').strip('#')) and ('.' not in s[1].rstrip('.')):\n",
    "                return 'H'\n",
    "        return 'X'\n",
    "    elif len(s) == 4 and s[0] == s[2]:\n",
    "        if ('.' not in s[0].rstrip('.')) and ('#' not in s[1].rstrip('.').strip('#')) and ('.' not in s[-1].rstrip('.')):\n",
    "            if len(s[-1].lstrip('#')) == len(s[1].lstrip('#')):\n",
    "                  return 'P'\n",
    "    return 'X'\n",
    "\n",
    "n = int(input())\n",
    "data = [input() for _ in range(n)]\n",
    "print(solve(n, data))"
   ]
  },
  {
   "cell_type": "markdown",
   "id": "3dfb1023-6a72-4bd6-ab72-bb2ce9f435b8",
   "metadata": {},
   "source": [
    "### Tests"
   ]
  },
  {
   "cell_type": "code",
   "execution_count": 56,
   "id": "ab6dcae8-b89a-42db-b47f-9d8948f86b39",
   "metadata": {},
   "outputs": [
    {
     "data": {
      "text/plain": [
       "'##.'"
      ]
     },
     "execution_count": 56,
     "metadata": {},
     "output_type": "execute_result"
    }
   ],
   "source": [
    "from functools import reduce\n",
    "reduce(lambda a, b: a if len(a) == len(b) else '', t)"
   ]
  },
  {
   "cell_type": "code",
   "execution_count": 77,
   "id": "acf79216-32c2-499e-ace6-31742e38f9c1",
   "metadata": {},
   "outputs": [
    {
     "data": {
      "text/plain": [
       "'...'"
      ]
     },
     "execution_count": 77,
     "metadata": {},
     "output_type": "execute_result"
    }
   ],
   "source": [
    "'#...#'.strip('#')"
   ]
  },
  {
   "cell_type": "code",
   "execution_count": 85,
   "id": "d81c61ce-1e05-40b9-a7db-692d46f83535",
   "metadata": {},
   "outputs": [],
   "source": [
    "from collections import defaultdict\n",
    "\n",
    "n = 4\n",
    "data = ['.##.',\n",
    "        '.##.',\n",
    "        '.##.',\n",
    "        '....']\n",
    "data = ['..##',\n",
    "        '....',\n",
    "        '..##',\n",
    "        '....']\n",
    "data = ['####',\n",
    "        '#...',\n",
    "        '####',\n",
    "        '####']\n",
    "data = ['#...',\n",
    "        '#...',\n",
    "        '####',\n",
    "        '....']\n",
    "data = ['....',\n",
    "        '#..#',\n",
    "        '####',\n",
    "        '#..#']\n",
    "data = ['.###',\n",
    "        '.#.#',\n",
    "        '.###',\n",
    "        '....']\n",
    "data = ['.###',\n",
    "        '.#.#',\n",
    "        '.###',\n",
    "        '####']\n",
    "data = ['.###',\n",
    "        '.#.#',\n",
    "        '.###',\n",
    "        '.#..']\n",
    "# n = 5\n",
    "# data = ['#...#',\n",
    "#          '.#.#.',\n",
    "#          '..#..',\n",
    "#          '.#.#.',\n",
    "#          '#...#']\n"
   ]
  }
 ],
 "metadata": {
  "kernelspec": {
   "display_name": "Python 3 (ipykernel)",
   "language": "python",
   "name": "python3"
  },
  "language_info": {
   "codemirror_mode": {
    "name": "ipython",
    "version": 3
   },
   "file_extension": ".py",
   "mimetype": "text/x-python",
   "name": "python",
   "nbconvert_exporter": "python",
   "pygments_lexer": "ipython3",
   "version": "3.10.12"
  }
 },
 "nbformat": 4,
 "nbformat_minor": 5
}
