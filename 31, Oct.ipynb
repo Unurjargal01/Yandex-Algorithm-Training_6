{
 "cells": [
  {
   "cell_type": "markdown",
   "id": "c4d44ac5-b585-445c-882f-c38053cc2851",
   "metadata": {},
   "source": [
    "# Training: Prefix and two references"
   ]
  },
  {
   "cell_type": "markdown",
   "id": "1c693d98-a124-445e-919b-039fe6f1f21a",
   "metadata": {
    "jp-MarkdownHeadingCollapsed": true
   },
   "source": [
    "## Task 1:"
   ]
  },
  {
   "cell_type": "markdown",
   "id": "0fd622c1-92d0-459d-89c1-c3a88b362669",
   "metadata": {},
   "source": [
    "### Problem: Compute Prefix"
   ]
  },
  {
   "cell_type": "markdown",
   "id": "b7f3982e-457a-4071-8a9d-39f0c0f5906d",
   "metadata": {},
   "source": [
    "![title](Problems/2_A.png)"
   ]
  },
  {
   "cell_type": "markdown",
   "id": "9dd4f69e-87f3-47e6-a51e-506ed982dc67",
   "metadata": {
    "jp-MarkdownHeadingCollapsed": true
   },
   "source": [
    "### Solution:"
   ]
  },
  {
   "cell_type": "code",
   "execution_count": 1,
   "id": "c8bfeba8-fd31-4c81-83f4-caaca1c2afc1",
   "metadata": {},
   "outputs": [
    {
     "name": "stdin",
     "output_type": "stream",
     "text": [
      " 5\n",
      " 10 -4 5 0 2\n"
     ]
    },
    {
     "name": "stdout",
     "output_type": "stream",
     "text": [
      "10 6 11 11 13\n"
     ]
    }
   ],
   "source": [
    "# Task 1:\n",
    "n = int(input())\n",
    "elem = list(map(int, input().split()))\n",
    "\n",
    "ans = [0]\n",
    "for i in elem:\n",
    "\tans.append(ans[-1] + i)\n",
    "print(*ans[1:])"
   ]
  },
  {
   "cell_type": "markdown",
   "id": "47b58957-5d9c-4ad8-b077-ffc4997c1263",
   "metadata": {
    "jp-MarkdownHeadingCollapsed": true
   },
   "source": [
    "## Task 2:"
   ]
  },
  {
   "cell_type": "markdown",
   "id": "39988608-6f41-40ad-bc5f-7bec398ba219",
   "metadata": {},
   "source": [
    "### Problems: Compute the number of intervals where sum is equal to K"
   ]
  },
  {
   "cell_type": "markdown",
   "id": "ac1c79f5-cb4e-4605-9ba0-7f24d77b7287",
   "metadata": {},
   "source": [
    "![title](Problems/2_B.png)"
   ]
  },
  {
   "cell_type": "markdown",
   "id": "f5f3982c-ab6d-403b-8ffd-75ca0d387999",
   "metadata": {},
   "source": [
    "### Solution:"
   ]
  },
  {
   "cell_type": "code",
   "execution_count": 17,
   "id": "5f3813f0-e03d-4f76-9d57-3c172ed2d8b4",
   "metadata": {
    "scrolled": true
   },
   "outputs": [
    {
     "name": "stdin",
     "output_type": "stream",
     "text": [
      " 5 17 \n",
      " 17 10 7 10 7\n"
     ]
    },
    {
     "name": "stdout",
     "output_type": "stream",
     "text": [
      "0 0\n",
      "0\n",
      "10\n",
      "1 2\n",
      "7\n",
      "2 3\n",
      "10\n",
      "3 4\n",
      "7\n",
      "4\n"
     ]
    }
   ],
   "source": [
    "# Task 2:\n",
    "n, k = map(int, input().split())\n",
    "elems = list(map(int, input().split()))\n",
    "\n",
    "ans = 0\n",
    "first = 0\n",
    "sum_ = 0\n",
    "for last in range(len(elems)):\n",
    "    sum_ += elems[last]\n",
    "    while first < len(elems) and sum_ >= k:\n",
    "        if sum_ == k:\n",
    "            ans += 1    \n",
    "        sum_ -= elems[first]\n",
    "        first += 1\n",
    "print(ans)"
   ]
  },
  {
   "cell_type": "markdown",
   "id": "c8eb8220-a274-4fc7-8f10-84014d6a3922",
   "metadata": {
    "jp-MarkdownHeadingCollapsed": true
   },
   "source": [
    "## Task 3:"
   ]
  },
  {
   "cell_type": "markdown",
   "id": "e3dc9cb7-8f26-4dbd-925f-0bf60dd7f171",
   "metadata": {},
   "source": [
    "### Problems: Compute the number of combinations where two points' distance is less than r"
   ]
  },
  {
   "cell_type": "markdown",
   "id": "88b45fa3-d319-4ee5-83f3-e293f8b5f69f",
   "metadata": {},
   "source": [
    "![title](Problems/2_C.png)"
   ]
  },
  {
   "cell_type": "markdown",
   "id": "335bbb13-f1d3-464a-bc88-d170bc785960",
   "metadata": {},
   "source": [
    "### Solution:"
   ]
  },
  {
   "cell_type": "code",
   "execution_count": 21,
   "id": "4cfc5953-cc6d-47a6-8859-6ca467c23182",
   "metadata": {},
   "outputs": [
    {
     "name": "stdin",
     "output_type": "stream",
     "text": [
      " 4 4 \n",
      " 1 3 5 8\n"
     ]
    },
    {
     "name": "stdout",
     "output_type": "stream",
     "text": [
      "2\n"
     ]
    }
   ],
   "source": [
    "# Task 3\n",
    "n, r = map(int, input().split())\n",
    "elems = list(map(int, input().split()))\n",
    "\n",
    "start = 0\n",
    "sum_ = 0\n",
    "ans = 0\n",
    "for last in range(n):\n",
    "    sum_ = elems[last] - elems[start]\n",
    "    while sum_ > r:\n",
    "        ans += n - last\n",
    "        start += 1\n",
    "        sum_ = elems[last] - elems[start]\n",
    "print(ans)"
   ]
  },
  {
   "cell_type": "markdown",
   "id": "eeb832fe-c89f-48e0-8653-afb6e6c1321e",
   "metadata": {},
   "source": [
    "## Task 4:"
   ]
  },
  {
   "cell_type": "markdown",
   "id": "f029b637-99d2-4149-81c1-2d7fcca478c6",
   "metadata": {},
   "source": [
    "### Problems:"
   ]
  },
  {
   "cell_type": "markdown",
   "id": "867a46a0-f5f3-4256-b3ec-3a5ef62f32d2",
   "metadata": {},
   "source": [
    "![title](Problems/2_D.png)"
   ]
  },
  {
   "cell_type": "markdown",
   "id": "451230dc-64f4-4fc0-ba97-f0cd11d1d998",
   "metadata": {},
   "source": [
    "### Solution:"
   ]
  },
  {
   "cell_type": "code",
   "execution_count": 29,
   "id": "8da7d71a-5959-40d5-bbf5-bf220fc282c3",
   "metadata": {},
   "outputs": [
    {
     "name": "stdin",
     "output_type": "stream",
     "text": [
      " 3 2\n",
      "  4 2 1\n"
     ]
    },
    {
     "name": "stdout",
     "output_type": "stream",
     "text": [
      "2\n"
     ]
    }
   ],
   "source": [
    "# Task 4\n",
    "n, k = map(int, input().split())\n",
    "nums = list(map(int, input().split()))\n",
    "nums.sort()\n",
    "\n",
    "start, ans = 0, 0\n",
    "\n",
    "for last in range(n):\n",
    "    diff = nums[last] - nums[start]\n",
    "    while diff > k:\n",
    "        start += 1\n",
    "        diff = nums[last] - nums[start]\n",
    "    \n",
    "    ans = max(ans, last - start + 1)\n",
    "print(ans)"
   ]
  },
  {
   "cell_type": "markdown",
   "id": "0a306fe1-e7e6-4b5e-a469-66658a8cbadc",
   "metadata": {},
   "source": [
    "## Task 5:"
   ]
  },
  {
   "cell_type": "markdown",
   "id": "c137de73-2903-4e8f-8c95-9e026827b866",
   "metadata": {},
   "source": [
    "### Problems: Removing Medians Consequently"
   ]
  },
  {
   "cell_type": "markdown",
   "id": "25ed44f1-afc2-4957-ac20-4463b412881b",
   "metadata": {},
   "source": [
    "![title](Problems/2_E.png)"
   ]
  },
  {
   "cell_type": "markdown",
   "id": "6d282482-8799-4060-b7ef-e20b9d92f0c9",
   "metadata": {},
   "source": [
    "### Solution:"
   ]
  },
  {
   "cell_type": "code",
   "execution_count": 59,
   "id": "a524ab9a-0896-4c70-b4c3-290e87cb25d9",
   "metadata": {},
   "outputs": [
    {
     "name": "stdin",
     "output_type": "stream",
     "text": [
      " 4\n",
      " 1 2 4 2\n"
     ]
    },
    {
     "name": "stdout",
     "output_type": "stream",
     "text": [
      "2 2 1 4\n"
     ]
    }
   ],
   "source": [
    "# Task 5:\n",
    "n = int(input())\n",
    "elems = list(map(int, input().split()))\n",
    "\n",
    "elems.sort()\n",
    "\n",
    "ans = []\n",
    "m = n\n",
    "left, right = (n // 2) - 1, n // 2\n",
    "\n",
    "while left > -1 and right < n and m > 0:\n",
    "    # print(ans, left, right, m)\n",
    "    if (m % 2) == 0:\n",
    "        ans.append(elems[left])\n",
    "        left -= 1\n",
    "    else:\n",
    "        ans.append(elems[right])\n",
    "        right += 1\n",
    "    m -= 1\n",
    "ans.append(elems[left] if right == n else elems[right])\n",
    "print(*ans)"
   ]
  },
  {
   "cell_type": "markdown",
   "id": "2c046d67-df1d-4ce0-9779-b98e7d7c2421",
   "metadata": {},
   "source": [
    "## Task 6:"
   ]
  },
  {
   "cell_type": "markdown",
   "id": "c41cc383-56b4-451a-a391-8639c203702e",
   "metadata": {},
   "source": [
    "### Problems:"
   ]
  },
  {
   "cell_type": "markdown",
   "id": "f7685096-7e9e-46df-ac0a-9227ff455a99",
   "metadata": {},
   "source": [
    "![title](Problems/2_F.png)"
   ]
  },
  {
   "cell_type": "markdown",
   "id": "942ccce4-19e8-4d08-80cf-d560eb856ef1",
   "metadata": {},
   "source": [
    "### Solution: Prefix sum, and moving middle point"
   ]
  },
  {
   "cell_type": "code",
   "execution_count": 69,
   "id": "3efee123-8d36-4066-a227-ef048ae7bb15",
   "metadata": {},
   "outputs": [
    {
     "name": "stdin",
     "output_type": "stream",
     "text": [
      " 10\n",
      " 554786 761671 251576 783746 228900 869195 415433 717481 821644 17214\n"
     ]
    },
    {
     "name": "stdout",
     "output_type": "stream",
     "text": [
      "200122898\n"
     ]
    }
   ],
   "source": [
    "# Task 6:\n",
    "n = int(input())\n",
    "elems = list(map(int, input().split()))\n",
    "p = 1000000007\n",
    "left_sum, middle, right_sum = elems[0], 1, sum(elems[2:]) % p\n",
    "ans = 0\n",
    "while middle < (n - 1):\n",
    "    ans = (ans + (left_sum * elems[middle] * right_sum) % p) % p\n",
    "    left_sum = (left_sum + elems[middle]) % p\n",
    "    middle += 1\n",
    "    right_sum = (right_sum - elems[middle]) % p\n",
    "print(ans)"
   ]
  },
  {
   "cell_type": "markdown",
   "id": "f9a05d45-0feb-44a7-9a60-be1a67f72eed",
   "metadata": {},
   "source": [
    "## Task 7:"
   ]
  },
  {
   "cell_type": "markdown",
   "id": "2a84653a-077b-447c-bc52-696b26206b1f",
   "metadata": {},
   "source": [
    "### Problems:"
   ]
  },
  {
   "cell_type": "markdown",
   "id": "2a802b5d-a063-4c0a-8b0c-2177444ee6b3",
   "metadata": {},
   "source": [
    "![title](Problems/2_G.png)"
   ]
  },
  {
   "cell_type": "markdown",
   "id": "6f08fc7d-c008-4b71-91df-986d05247c99",
   "metadata": {},
   "source": [
    "### Solution:"
   ]
  },
  {
   "cell_type": "code",
   "execution_count": 96,
   "id": "b72aa1f9-0eab-4ec1-8d3f-dd32f9367456",
   "metadata": {
    "scrolled": true
   },
   "outputs": [
    {
     "name": "stdin",
     "output_type": "stream",
     "text": [
      " 50 159\n",
      " aaabaababaabaaaabaabbxaazbaaaababaababbbaaaabaabbb\n"
     ]
    },
    {
     "name": "stdout",
     "output_type": "stream",
     "text": [
      "39\n"
     ]
    }
   ],
   "source": [
    "# Task 7:\n",
    "n, c = map(int, input().split())\n",
    "s = input()\n",
    "quant = {'a': 0, 'b': 0}\n",
    "quants = [(0, 0)] * (n+1)\n",
    "prefixs = [0] * (n+1)\n",
    "\n",
    "for i, elem in enumerate(s):\n",
    "    if elem == 'a':\n",
    "        quant['a'] += 1\n",
    "    elif elem == 'b':\n",
    "        quant['b'] += 1\n",
    "        prefixs[i+1] = prefixs[i] + quant['a']\n",
    "    quants[i+1] = tuple(quant.values())\n",
    "    prefixs[i+1] = max(prefixs[i], prefixs[i+1])\n",
    "# print(prefixs)\n",
    "start, ans = 0, 0\n",
    "for last in range(n + 1):\n",
    "    diff = prefixs[last] - prefixs[start] - (quants[last][1] - quants[start][1]) * quants[start][0]\n",
    "    while diff > c:\n",
    "        start += 1\n",
    "        diff = prefixs[last] - prefixs[start] - (quants[last][1] - quants[start][1]) * quants[start][0]\n",
    "    ans = max(ans, last - start)\n",
    "\n",
    "print(ans)"
   ]
  },
  {
   "cell_type": "markdown",
   "id": "9c82d1b4-16a8-41d0-93dc-d5f5dfe587c8",
   "metadata": {},
   "source": [
    "## Task 8:"
   ]
  },
  {
   "cell_type": "markdown",
   "id": "60415dc6-eec2-49f9-ab0c-881db0d04efa",
   "metadata": {},
   "source": [
    "### Problems: All array will be gathered one place. Therefore, minimize the cost of moving"
   ]
  },
  {
   "cell_type": "markdown",
   "id": "c6630696-d87b-4fb2-9ad3-4ae1f251467a",
   "metadata": {},
   "source": [
    "![title](Problems/2_H.png)"
   ]
  },
  {
   "cell_type": "markdown",
   "id": "4d7c5c46-0a70-4f05-8af2-fd13382fcda1",
   "metadata": {},
   "source": [
    "### Solution:"
   ]
  },
  {
   "cell_type": "code",
   "execution_count": 104,
   "id": "cf4dc557-ac13-492c-9cf9-5ae3be7dd96c",
   "metadata": {},
   "outputs": [
    {
     "name": "stdin",
     "output_type": "stream",
     "text": [
      " 4\n",
      " 5 2 3 1\n"
     ]
    },
    {
     "name": "stdout",
     "output_type": "stream",
     "text": [
      "10\n"
     ]
    }
   ],
   "source": [
    "# Task 8\n",
    "n = int(input())\n",
    "elems = list(map(int, input().split()))\n",
    "\n",
    "pure_lft, pure_rght = 0, sum(elems[1:])\n",
    "left_shft, right_shft = 0, sum([i * j for i, j in enumerate(elems)])\n",
    "ans = right_shft\n",
    "for i in range(n-1):\n",
    "    pure_lft += elems[i]\n",
    "    left_shft += pure_lft\n",
    "\n",
    "    right_shft -= pure_rght\n",
    "    pure_rght -= elems[i + 1]\n",
    "\n",
    "    ans = min(ans, (left_shft + right_shft))\n",
    "    \n",
    "print(ans)"
   ]
  },
  {
   "cell_type": "code",
   "execution_count": 100,
   "id": "b6a02b16-b33a-4a0e-952f-605004a07fe8",
   "metadata": {},
   "outputs": [
    {
     "data": {
      "text/plain": [
       "11"
      ]
     },
     "execution_count": 100,
     "metadata": {},
     "output_type": "execute_result"
    }
   ],
   "source": [
    "right_sum"
   ]
  },
  {
   "cell_type": "markdown",
   "id": "95c31081-1f5f-4e8c-8bad-b10b1fc6f908",
   "metadata": {},
   "source": [
    "## Task 9:"
   ]
  },
  {
   "cell_type": "markdown",
   "id": "85ce1fd3-9c16-41d6-911b-c5b6c52ac8c4",
   "metadata": {},
   "source": [
    "### Problems: "
   ]
  },
  {
   "cell_type": "markdown",
   "id": "fa87f4d6-e3f8-4387-80d8-0b8a6362e0f0",
   "metadata": {},
   "source": [
    "![title](Problems/2_I.png)"
   ]
  },
  {
   "cell_type": "markdown",
   "id": "9347b35a-9925-4deb-a5e8-45d927ec8a8e",
   "metadata": {},
   "source": [
    "### Solution: Using the triple lexicographic sorting: the second increase, while the third decrease"
   ]
  },
  {
   "cell_type": "code",
   "execution_count": 21,
   "id": "615112fa-77a2-4e63-bd12-bc67a295f1ef",
   "metadata": {},
   "outputs": [
    {
     "name": "stdin",
     "output_type": "stream",
     "text": [
      " 5\n",
      " 1 2 3 4 5\n",
      " 5 4 3 2 1\n",
      " 1 0 1 0 0 \n"
     ]
    },
    {
     "data": {
      "text/plain": [
       "([(5, 1, 4), (4, 2, 3), (3, 3, 2), (2, 4, 1), (1, 5, 0)],\n",
       " [(5, 1, 0), (4, 2, 1), (3, 3, 2), (2, 4, 3), (1, 5, 4)])"
      ]
     },
     "execution_count": 21,
     "metadata": {},
     "output_type": "execute_result"
    }
   ],
   "source": [
    "# Task 9:\n",
    "n = int(input())\n",
    "a = list(map(int, input().split()))\n",
    "b = list(map(int, input().split()))\n",
    "p = list(map(int, input().split()))\n",
    "\n",
    "token = [False] * n\n",
    "ans = []\n",
    "a_ = [(j, b[i], i) for i, j in enumerate(a)]\n",
    "b_ = [(j, a[i], i) for i, j in enumerate(b)]\n",
    "a_.sort(key = lambda x: (x[0], x[1], -x[2]), reverse = True)\n",
    "b_.sort(key = lambda x: (x[0], x[1], -x[2]), reverse = True)\n",
    "\n",
    "a_, b_ "
   ]
  },
  {
   "cell_type": "code",
   "execution_count": 22,
   "id": "62589a1a-2567-4616-bcc2-0fabd9361a12",
   "metadata": {},
   "outputs": [
    {
     "data": {
      "text/plain": [
       "[1, 5, 2, 4, 3]"
      ]
     },
     "execution_count": 22,
     "metadata": {},
     "output_type": "execute_result"
    }
   ],
   "source": [
    "idx_a, idx_b = 0, 0\n",
    "for i in p:\n",
    "    # we need to choose \"a_{i}\"\n",
    "    if i == 0:\n",
    "        while token[a_[idx_a][2]]:\n",
    "            idx_a += 1\n",
    "        token[a_[idx_a][2]] = True\n",
    "        ans.append(a_[idx_a][2] + 1)\n",
    "    else:\n",
    "        while token[b_[idx_b][2]]:\n",
    "            idx_b += 1\n",
    "        token[b_[idx_b][2]] = True\n",
    "        ans.append(b_[idx_b][2] + 1)\n",
    "ans"
   ]
  },
  {
   "cell_type": "markdown",
   "id": "8f87db1a-ce9d-4ca9-9946-a703e69c0aae",
   "metadata": {},
   "source": [
    "## Task 10:"
   ]
  },
  {
   "cell_type": "markdown",
   "id": "7caa5782-29bb-4296-82fd-d4ebec95a510",
   "metadata": {},
   "source": [
    "### Problems:"
   ]
  },
  {
   "cell_type": "markdown",
   "id": "9b3f8212-dadd-4528-8c37-402fba6d04a9",
   "metadata": {},
   "source": [
    "![title](Problems/2_J.png)"
   ]
  },
  {
   "cell_type": "markdown",
   "id": "451d3f2d-675d-48f8-b1d0-a95e60843e2e",
   "metadata": {},
   "source": [
    "### Solution:"
   ]
  },
  {
   "cell_type": "code",
   "execution_count": 34,
   "id": "a12b1af6-f102-45ea-9c6c-13967c271b2d",
   "metadata": {},
   "outputs": [
    {
     "name": "stdin",
     "output_type": "stream",
     "text": [
      " 6\n",
      " 3 3 3 4 4 5\n",
      " 4 2\n",
      " 3 4 5 6\n"
     ]
    },
    {
     "name": "stdout",
     "output_type": "stream",
     "text": [
      "1 1 2 2\n"
     ]
    }
   ],
   "source": [
    "# Task 10\n",
    "n = int(input())\n",
    "a = list(map(int, input().split()))\n",
    "m, k = map(int, input().split())\n",
    "x = list(map(int, input().split()))\n",
    "\n",
    "ans = [0]\n",
    "start, cnt = 0, 0\n",
    "\n",
    "for i in range(1, n):\n",
    "    if a[i-1] > a[i]:\n",
    "        cnt = 0\n",
    "        start = i\n",
    "    elif a[i-1] == a[i]:\n",
    "        cnt +=1\n",
    "        while cnt > k:\n",
    "            start += 1\n",
    "            if a[start-1] == a[start]:\n",
    "                cnt -= 1\n",
    "    ans.append(start)\n",
    "print(*[ans[i-1]+1 for i in x])"
   ]
  }
 ],
 "metadata": {
  "kernelspec": {
   "display_name": "Python 3 (ipykernel)",
   "language": "python",
   "name": "python3"
  },
  "language_info": {
   "codemirror_mode": {
    "name": "ipython",
    "version": 3
   },
   "file_extension": ".py",
   "mimetype": "text/x-python",
   "name": "python",
   "nbconvert_exporter": "python",
   "pygments_lexer": "ipython3",
   "version": "3.10.12"
  }
 },
 "nbformat": 4,
 "nbformat_minor": 5
}
